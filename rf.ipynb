{
 "cells": [
  {
   "cell_type": "code",
   "execution_count": 3,
   "metadata": {
    "slideshow": {
     "slide_type": "skip"
    }
   },
   "outputs": [],
   "source": [
    "from IPython.display import display\n",
    "import matplotlib.pyplot as plt"
   ]
  },
  {
   "cell_type": "markdown",
   "metadata": {
    "slideshow": {
     "slide_type": "slide"
    }
   },
   "source": [
    "# Random Forests\n",
    "\n",
    "Spencer Boucher\n",
    "\n",
    "[Source Code](https://github.com/justmytwospence/random-forests-lesson)"
   ]
  },
  {
   "cell_type": "markdown",
   "metadata": {
    "slideshow": {
     "slide_type": "slide"
    }
   },
   "source": [
    "## Leaning Objectives\n",
    "\n",
    "- Why random forests?\n",
    "- Review of decision trees (especially spitting criteria)\n",
    "- Bagging\n",
    "- The random subspace method\n",
    "- Tuning hyperparameters\n",
    "- Variable importance"
   ]
  },
  {
   "cell_type": "markdown",
   "metadata": {
    "slideshow": {
     "slide_type": "slide"
    }
   },
   "source": [
    "## Why random Forests?\n",
    "\n",
    "- Modern: developed in the 1990s by [Tin Kam Ho](http://www.machine-learning.martinsewell.com/ensembles/rsm/Ho1998.pdf), [Leo Breiman, and Adele Cutler](http://machinelearning202.pbworks.com/w/file/fetch/60606349/breiman_randomforests.pdf)\n",
    "- Works well for *both* **regression** *and* **classification**\n",
    "- Handles **categorical** features, **numeric** features, and **missing data** well\n",
    "- Has many convenient and efficient implementations, including `sklearn`\n",
    "- Requires relatively little tuning\n",
    "- Highly parallelizable"
   ]
  },
  {
   "cell_type": "code",
   "execution_count": 4,
   "metadata": {
    "slideshow": {
     "slide_type": "slide"
    }
   },
   "outputs": [
    {
     "data": {
      "text/html": [
       "<div>\n",
       "<style scoped>\n",
       "    .dataframe tbody tr th:only-of-type {\n",
       "        vertical-align: middle;\n",
       "    }\n",
       "\n",
       "    .dataframe tbody tr th {\n",
       "        vertical-align: top;\n",
       "    }\n",
       "\n",
       "    .dataframe thead th {\n",
       "        text-align: right;\n",
       "    }\n",
       "</style>\n",
       "<table border=\"1\" class=\"dataframe\">\n",
       "  <thead>\n",
       "    <tr style=\"text-align: right;\">\n",
       "      <th></th>\n",
       "      <th>PassengerId</th>\n",
       "      <th>Survived</th>\n",
       "      <th>Pclass</th>\n",
       "      <th>Name</th>\n",
       "      <th>Sex</th>\n",
       "      <th>Age</th>\n",
       "      <th>SibSp</th>\n",
       "      <th>Parch</th>\n",
       "      <th>Ticket</th>\n",
       "      <th>Fare</th>\n",
       "      <th>Cabin</th>\n",
       "      <th>Embarked</th>\n",
       "    </tr>\n",
       "  </thead>\n",
       "  <tbody>\n",
       "    <tr>\n",
       "      <th>0</th>\n",
       "      <td>0</td>\n",
       "      <td>0</td>\n",
       "      <td>2</td>\n",
       "      <td>108</td>\n",
       "      <td>1</td>\n",
       "      <td>28</td>\n",
       "      <td>1</td>\n",
       "      <td>0</td>\n",
       "      <td>523</td>\n",
       "      <td>18</td>\n",
       "      <td>146</td>\n",
       "      <td>3</td>\n",
       "    </tr>\n",
       "    <tr>\n",
       "      <th>1</th>\n",
       "      <td>1</td>\n",
       "      <td>1</td>\n",
       "      <td>0</td>\n",
       "      <td>190</td>\n",
       "      <td>0</td>\n",
       "      <td>51</td>\n",
       "      <td>1</td>\n",
       "      <td>0</td>\n",
       "      <td>596</td>\n",
       "      <td>207</td>\n",
       "      <td>81</td>\n",
       "      <td>0</td>\n",
       "    </tr>\n",
       "    <tr>\n",
       "      <th>2</th>\n",
       "      <td>2</td>\n",
       "      <td>1</td>\n",
       "      <td>2</td>\n",
       "      <td>353</td>\n",
       "      <td>0</td>\n",
       "      <td>34</td>\n",
       "      <td>0</td>\n",
       "      <td>0</td>\n",
       "      <td>669</td>\n",
       "      <td>41</td>\n",
       "      <td>146</td>\n",
       "      <td>3</td>\n",
       "    </tr>\n",
       "    <tr>\n",
       "      <th>3</th>\n",
       "      <td>3</td>\n",
       "      <td>1</td>\n",
       "      <td>0</td>\n",
       "      <td>272</td>\n",
       "      <td>0</td>\n",
       "      <td>47</td>\n",
       "      <td>1</td>\n",
       "      <td>0</td>\n",
       "      <td>49</td>\n",
       "      <td>189</td>\n",
       "      <td>55</td>\n",
       "      <td>3</td>\n",
       "    </tr>\n",
       "    <tr>\n",
       "      <th>4</th>\n",
       "      <td>4</td>\n",
       "      <td>0</td>\n",
       "      <td>2</td>\n",
       "      <td>15</td>\n",
       "      <td>1</td>\n",
       "      <td>47</td>\n",
       "      <td>0</td>\n",
       "      <td>0</td>\n",
       "      <td>472</td>\n",
       "      <td>43</td>\n",
       "      <td>146</td>\n",
       "      <td>3</td>\n",
       "    </tr>\n",
       "  </tbody>\n",
       "</table>\n",
       "</div>"
      ],
      "text/plain": [
       "   PassengerId  Survived  Pclass  Name  Sex  Age  SibSp  Parch  Ticket  Fare  Cabin  Embarked\n",
       "0            0         0       2   108    1   28      1      0     523    18    146         3\n",
       "1            1         1       0   190    0   51      1      0     596   207     81         0\n",
       "2            2         1       2   353    0   34      0      0     669    41    146         3\n",
       "3            3         1       0   272    0   47      1      0      49   189     55         3\n",
       "4            4         0       2    15    1   47      0      0     472    43    146         3"
      ]
     },
     "metadata": {},
     "output_type": "display_data"
    }
   ],
   "source": [
    "from sklearn.preprocessing import LabelEncoder\n",
    "\n",
    "le = LabelEncoder()\n",
    "\n",
    "titanic_data = pd.read_csv(\"data/titanic.csv\")\n",
    "titanic_data = titanic_data.fillna({\"Cabin\":\"NA\", \"Embarked\": \"NA\"}).apply(le.fit_transform)\n",
    "display(titanic_data.head())\n",
    "survived = titanic_data.pop(\"Survived\")"
   ]
  },
  {
   "cell_type": "markdown",
   "metadata": {
    "slideshow": {
     "slide_type": "slide"
    }
   },
   "source": [
    "## Decision Trees"
   ]
  },
  {
   "cell_type": "markdown",
   "metadata": {
    "slideshow": {
     "slide_type": "slide"
    }
   },
   "source": [
    "![classification-tree](images/classification-tree.png)"
   ]
  },
  {
   "cell_type": "markdown",
   "metadata": {
    "slideshow": {
     "slide_type": "slide"
    }
   },
   "source": [
    "![regression-tree](images/regression-tree.png)"
   ]
  },
  {
   "cell_type": "markdown",
   "metadata": {
    "slideshow": {
     "slide_type": "slide"
    }
   },
   "source": [
    "# Splitting Criteria\n",
    "\n",
    "- Regression\n",
    "  - MSE\n",
    "- Classificatoin\n",
    "  - misclassication error\n",
    "  - entropy\n",
    "  - Gini index"
   ]
  },
  {
   "cell_type": "markdown",
   "metadata": {
    "slideshow": {
     "slide_type": "slide"
    }
   },
   "source": [
    "## Misclassification error\n",
    "\n",
    "- Not continuously differentiable\n",
    "- Ends up not being as sensitive as we would like in practice"
   ]
  },
  {
   "cell_type": "markdown",
   "metadata": {
    "slideshow": {
     "slide_type": "slide"
    }
   },
   "source": [
    "## Entropy (information gain)\n",
    "\n",
    "$$\\textit{Entropy}: H(E) = -\\sum_{j=1}^{c}p_j\\log p_j$$\n",
    "\n",
    "- information gain is the entropy of the parent node minus the entropy of the child nodes\n",
    "- from information theory\n",
    "- continuously differentiable\n",
    "- favors pure nodes even in situations with equal misclassification rate\n",
    "- requires taking a logarithm"
   ]
  },
  {
   "cell_type": "markdown",
   "metadata": {
    "slideshow": {
     "slide_type": "slide"
    }
   },
   "source": [
    "## Gini\n",
    "$$\\textit{Gini}: \\mathit{Gini}(E) = 1 - \\sum_{j=1}^{c}p_j^2$$\n",
    "\n",
    "- from statistics\n",
    "- related to the Gini Coefficient for measuring wealth inequality\n",
    "- computationally simple (no logarithm)\n",
    "- also continuously differentiable\n",
    "- also favors pure nodes more than classification error does"
   ]
  },
  {
   "cell_type": "markdown",
   "metadata": {
    "slideshow": {
     "slide_type": "slide"
    }
   },
   "source": [
    "## Which should you use?\n",
    "\n",
    "![gini-vs-entropy](images/gini-vs-entropy.png)\n",
    "\n",
    "- Use Gini if you are sticking with just one\n",
    "- Or: treat it as hyperparameter"
   ]
  },
  {
   "cell_type": "markdown",
   "metadata": {
    "slideshow": {
     "slide_type": "slide"
    }
   },
   "source": [
    "## The bias variance tradeoff\n",
    "\n",
    "![bias-variance](images/bias-variance.png)\n"
   ]
  },
  {
   "cell_type": "markdown",
   "metadata": {
    "slideshow": {
     "slide_type": "fragment"
    }
   },
   "source": [
    "How have we seen the high variance of trees handled before? (hint: involved a parameter $\\alpha$)"
   ]
  },
  {
   "cell_type": "markdown",
   "metadata": {
    "slideshow": {
     "slide_type": "fragment"
    }
   },
   "source": [
    "Cost-complexity pruning"
   ]
  },
  {
   "cell_type": "markdown",
   "metadata": {
    "slideshow": {
     "slide_type": "slide"
    }
   },
   "source": [
    "## **B**ootstrap **AGG**regat**ING**\n",
    "\n",
    "- We can train *many* trees on bootstrapped samples\n",
    "- Every tree will have the same bias, but by combining their estimates, we reduce overall variance\n",
    "- Classification: every individual tree \"votes\" on the class or \n",
    "- Regression: average each tree\n",
    "\n",
    "![bias-variance](images/bias-variance.png)"
   ]
  },
  {
   "cell_type": "markdown",
   "metadata": {
    "slideshow": {
     "slide_type": "slide"
    }
   },
   "source": [
    "Any given observation will only be used to fit $1 - \\frac{1}{e}$ of the trees in the forest ($63\\%$)."
   ]
  },
  {
   "cell_type": "code",
   "execution_count": 5,
   "metadata": {
    "slideshow": {
     "slide_type": "-"
    }
   },
   "outputs": [
    {
     "name": "stdout",
     "output_type": "stream",
     "text": [
      "abcdefghijklmnopqrstuvwxyz -> unique letters:  26\n",
      "wwupwqbwhrofclwhslnpzuttqu -> unique letters:  15\n",
      "Proportion of letters in sample: 57.7%\n"
     ]
    }
   ],
   "source": [
    "import numpy as np\n",
    "from string import ascii_lowercase\n",
    "\n",
    "print(ascii_lowercase, \n",
    "      \"-> unique letters: \",\n",
    "      len(ascii_lowercase))\n",
    "sample = np.random.choice(list(ascii_lowercase),  \n",
    "                          len(ascii_lowercase),\n",
    "                          replace=True)\n",
    "print(''.join(sample), \n",
    "      \"-> unique letters: \",\n",
    "      len(set(sample)))\n",
    "\n",
    "print('Proportion of letters in sample: {:.1%}'.format(len(set(sample))/len(sample)))"
   ]
  },
  {
   "cell_type": "markdown",
   "metadata": {
    "slideshow": {
     "slide_type": "slide"
    }
   },
   "source": [
    "## Out-of-bag error estimates\n",
    "\n",
    "- We can average or vote with the remaining $37\\%$ of trees to make a prediction for each observation.\n",
    "- This is called the out-of-bag error (OOB).\n",
    "- For sufficiently large forest size, OOB error approaches LOO error.\n",
    "\n",
    "![images](images/oob-vs-test-error.png)"
   ]
  },
  {
   "cell_type": "markdown",
   "metadata": {
    "slideshow": {
     "slide_type": "slide"
    }
   },
   "source": [
    "## Random subspace method\n",
    "\n",
    "- Bagging suffers from the problem that trees tend to be very similar to one another\n",
    "- We can *decorrelate* trees in the forest by bagging the *features* as well\n",
    "- Wisdom of the crowds analogy redux\n",
    "- Every time we consider a split, limit our choices to $m$ of the $p$ variables in the dataset\n",
    "- $m$ is often defaulted to $\\sqrt(p)$, but can reasonbly be as low as $1$"
   ]
  },
  {
   "cell_type": "markdown",
   "metadata": {
    "slideshow": {
     "slide_type": "slide"
    }
   },
   "source": [
    "![m-vs-p](images/m-vs-p.png)"
   ]
  },
  {
   "cell_type": "code",
   "execution_count": 6,
   "metadata": {
    "scrolled": false,
    "slideshow": {
     "slide_type": "slide"
    }
   },
   "outputs": [
    {
     "data": {
      "text/plain": [
       "RandomForestClassifier(bootstrap=True, class_weight=None, criterion='gini',\n",
       "            max_depth=None, max_features='sqrt', max_leaf_nodes=None,\n",
       "            min_impurity_decrease=0.0, min_impurity_split=None,\n",
       "            min_samples_leaf=1, min_samples_split=2,\n",
       "            min_weight_fraction_leaf=0.0, n_estimators=1000, n_jobs=-1,\n",
       "            oob_score=True, random_state=None, verbose=0, warm_start=False)"
      ]
     },
     "execution_count": 6,
     "metadata": {},
     "output_type": "execute_result"
    }
   ],
   "source": [
    "from sklearn.ensemble import RandomForestClassifier\n",
    "\n",
    "forest = RandomForestClassifier(n_estimators=1000, \n",
    "                                criterion='gini',\n",
    "                                max_features='sqrt',\n",
    "                                bootstrap=True,\n",
    "                                oob_score=True,\n",
    "                                n_jobs=-1)\n",
    "forest.fit(titanic_data, survived)"
   ]
  },
  {
   "cell_type": "markdown",
   "metadata": {
    "slideshow": {
     "slide_type": "slide"
    }
   },
   "source": [
    "## Hyperparameters\n",
    "\n",
    "- `criterion`\n",
    "- `max_depth`: maximum depth of an individual tree\n",
    "- `min_samples_split`: minimum number of samples required to split\n",
    "- `min_samples_leaf`: minimum number of samples required to be at a leaf node\n",
    "- `min_impurity_decrease`: minimum impurity decrease that can cause a split\n",
    "- [Visual demo widget](https://cs.stanford.edu/%7Ekarpathy/svmjs/demo/demoforest.html)"
   ]
  },
  {
   "cell_type": "markdown",
   "metadata": {
    "slideshow": {
     "slide_type": "slide"
    }
   },
   "source": [
    "## Grid Search"
   ]
  },
  {
   "cell_type": "code",
   "execution_count": 7,
   "metadata": {
    "slideshow": {
     "slide_type": "-"
    }
   },
   "outputs": [
    {
     "data": {
      "text/plain": [
       "GridSearchCV(cv=None, error_score='raise',\n",
       "       estimator=RandomForestClassifier(bootstrap=True, class_weight=None, criterion='gini',\n",
       "            max_depth=None, max_features='auto', max_leaf_nodes=None,\n",
       "            min_impurity_decrease=0.0, min_impurity_split=None,\n",
       "            min_samples_leaf=1, min_samples_split=2,\n",
       "            min_weight_fraction_leaf=0.0, n_estimators=100, n_jobs=1,\n",
       "            oob_score=False, random_state=None, verbose=0,\n",
       "            warm_start=False),\n",
       "       fit_params=None, iid=True, n_jobs=1,\n",
       "       param_grid={'max_depth': [3, None], 'max_features': [1, 10, 'sqrt', 'log2'], 'min_samples_split': [2, 3, 10], 'min_samples_leaf': [1, 3, 10], 'criterion': ['gini', 'entropy']},\n",
       "       pre_dispatch='2*n_jobs', refit=True, return_train_score='warn',\n",
       "       scoring=None, verbose=0)"
      ]
     },
     "execution_count": 7,
     "metadata": {},
     "output_type": "execute_result"
    }
   ],
   "source": [
    "from sklearn.model_selection import GridSearchCV\n",
    "\n",
    "clf = RandomForestClassifier(n_estimators=100)\n",
    "\n",
    "# use a full grid over all parameters\n",
    "param_grid = {\"max_depth\": [3, None],\n",
    "              \"max_features\": [1, 10, 'sqrt', 'log2'],\n",
    "              \"min_samples_split\": [2, 3, 10],\n",
    "              \"min_samples_leaf\": [1, 3, 10],\n",
    "              \"criterion\": [\"gini\", \"entropy\"]}\n",
    "\n",
    "# run grid search\n",
    "grid_search = GridSearchCV(clf, param_grid=param_grid)\n",
    "grid_search.fit(titanic_data, survived)"
   ]
  },
  {
   "cell_type": "markdown",
   "metadata": {
    "slideshow": {
     "slide_type": "slide"
    }
   },
   "source": [
    "# Variable Importance\n",
    "\n",
    "Two methods:\n",
    "\n",
    "1. Mean impurity decrease: Add up the decreases in Gini index across every tree when a given variable is used for a split. The units on this meassure for a particular feature are meaningless. They are only interesting relative to each other.\n",
    "\n",
    "2. Mean accuracy decrease: Measure the decrease in accuracy on OOB data when values of each feature are randomly permuted (effectively annihilating it's signal)\n",
    "\n",
    "The `feature_importances_` attribute in `sklearn` uses method #1."
   ]
  },
  {
   "cell_type": "code",
   "execution_count": 12,
   "metadata": {},
   "outputs": [
    {
     "data": {
      "text/plain": [
       "array([0.23693219, 0.13305347, 0.11576553, 0.1134657 , 0.10969246,\n",
       "       0.10099355, 0.06035738, 0.05939177, 0.02786738, 0.02337968,\n",
       "       0.0191009 ])"
      ]
     },
     "execution_count": 12,
     "metadata": {},
     "output_type": "execute_result"
    }
   ],
   "source": [
    "importances[indices]"
   ]
  },
  {
   "cell_type": "code",
   "execution_count": 9,
   "metadata": {
    "slideshow": {
     "slide_type": "slide"
    }
   },
   "outputs": [
    {
     "data": {
      "image/png": "[encoded data removed]",
      "text/plain": [
       "<matplotlib.figure.Figure at 0x1128a78d0>"
      ]
     },
     "metadata": {},
     "output_type": "display_data"
    }
   ],
   "source": [
    "importances = forest.feature_importances_\n",
    "std = np.std([tree.feature_importances_ for tree in forest.estimators_], axis=0)\n",
    "indices = np.argsort(importances)[::-1]\n",
    "plt.figure(figsize=(16,8)); plt.title(\"Feature importances\"); plt.ylabel(\"Mean decrease in Gini\")\n",
    "plt.bar(titanic_data.columns[indices], importances[indices], yerr=std[indices])\n",
    "plt.show()"
   ]
  },
  {
   "cell_type": "markdown",
   "metadata": {
    "slideshow": {
     "slide_type": "slide"
    }
   },
   "source": [
    "## Disadvantages\n",
    "\n",
    "- Can give wonky results on data that falls outside the range of the training data\n",
    "- Less interpretable than many models\n",
    "- Relatively slow at prediction time"
   ]
  },
  {
   "cell_type": "markdown",
   "metadata": {
    "slideshow": {
     "slide_type": "slide"
    }
   },
   "source": [
    "## Summary\n",
    "\n",
    "- Random forests reduce the variance of a single decision tree\n",
    "  - Bootstrap sampling the data\n",
    "  - Random feature subspace\n",
    "- Error can be computed (\"for free\") on the out-of-bag observations"
   ]
  },
  {
   "cell_type": "markdown",
   "metadata": {
    "slideshow": {
     "slide_type": "slide"
    }
   },
   "source": [
    "# Appendix"
   ]
  },
  {
   "cell_type": "markdown",
   "metadata": {
    "slideshow": {
     "slide_type": "slide"
    }
   },
   "source": [
    "## Evaluating Performance \n",
    "\n",
    "The output of a random forest *classifier* is actually a proportion.\n",
    "\n",
    "This means that we don't have to limit ourselves to a hard classification according to the majority; we can do some other interesting things"
   ]
  },
  {
   "cell_type": "markdown",
   "metadata": {
    "slideshow": {
     "slide_type": "slide"
    }
   },
   "source": [
    "## ROC curves\n",
    "\n",
    "One thing we can do is calibrate our predictions according to how aggressive or conservative we want to be.\n",
    "\n",
    "![roc-curve](images/roc-curve.png)"
   ]
  },
  {
   "cell_type": "markdown",
   "metadata": {
    "slideshow": {
     "slide_type": "slide"
    }
   },
   "source": [
    "## log-loss\n",
    "\n",
    "![log-loss](images/log-loss.png)"
   ]
  },
  {
   "cell_type": "markdown",
   "metadata": {
    "slideshow": {
     "slide_type": "slide"
    }
   },
   "source": [
    "## Trees vs linear models\n",
    "\n",
    "![tree-vs-linear](images/tree-vs-linear.png)"
   ]
  },
  {
   "cell_type": "markdown",
   "metadata": {
    "slideshow": {
     "slide_type": "slide"
    }
   },
   "source": [
    "## Bagging vs Boosting\n",
    "\n",
    "![rf-bagging-boosting](images/rf-bagging-boosting.png)"
   ]
  }
 ],
 "metadata": {
  "celltoolbar": "Slideshow",
  "kernelspec": {
   "display_name": "Python 3",
   "language": "python",
   "name": "python3"
  },
  "language_info": {
   "codemirror_mode": {
    "name": "ipython",
    "version": 3
   },
   "file_extension": ".py",
   "mimetype": "text/x-python",
   "name": "python",
   "nbconvert_exporter": "python",
   "pygments_lexer": "ipython3",
   "version": "3.6.5"
  }
 },
 "nbformat": 4,
 "nbformat_minor": 2
}
